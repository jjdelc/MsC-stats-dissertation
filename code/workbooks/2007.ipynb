{
 "cells": [
  {
   "cell_type": "code",
   "id": "initial_id",
   "metadata": {
    "collapsed": true,
    "ExecuteTime": {
     "end_time": "2024-05-21T00:35:54.583093Z",
     "start_time": "2024-05-21T00:35:54.572563Z"
    }
   },
   "source": [
    "from code.survey import SurveyReader\n",
    "import pandas as pd\n",
    "\n",
    "DATA_DIR = \"../../ENAHO/\"\n",
    "\n",
    "survey = SurveyReader(DATA_DIR, include_years={\"2007\"})\n",
    "survey.read_files()\n",
    "\n",
    "\n",
    "q_names = [\n",
    "    \"P314A\",\n",
    "    \"P314B$1\",\n",
    "    \"P314B$2\",\n",
    "    \"P314B$3\",\n",
    "    \"P314B$4\",\n",
    "    \"P314B$5\",\n",
    "    \"P314B$6\",\n",
    "    \"P314B$7\",\n",
    "    \"P314B1_1\"\n",
    "    \"P314B1_2\"\n",
    "    \"P314B1_6\"\n",
    "    \"P314B1_7\"\n",
    "    \"P314B1_8\"\n",
    "    \"P314B1_9\"\n",
    "    \"P314D\",\n",
    "    \"P3151\",\n",
    "    \"P3152\",\n",
    "    \"P3153\",\n",
    "    \"P3154\",\n",
    "    \"P3155\",\n",
    "    \"P3156\",\n",
    "]\n",
    "# internet_qs = survey.data_columns(\"03\", q_names)\n",
    "f2007 = survey.get_file(2007, \"03\")"
   ],
   "outputs": [],
   "execution_count": 4
  },
  {
   "metadata": {
    "ExecuteTime": {
     "end_time": "2024-05-21T00:36:26.150291Z",
     "start_time": "2024-05-21T00:36:26.146812Z"
    }
   },
   "cell_type": "code",
   "source": "print(f2007.meta.number_rows)",
   "id": "b13bdc4690f97cfe",
   "outputs": [
    {
     "name": "stdout",
     "output_type": "stream",
     "text": [
      "87924\n"
     ]
    }
   ],
   "execution_count": 8
  }
 ],
 "metadata": {
  "kernelspec": {
   "display_name": "Python 3",
   "language": "python",
   "name": "python3"
  },
  "language_info": {
   "codemirror_mode": {
    "name": "ipython",
    "version": 2
   },
   "file_extension": ".py",
   "mimetype": "text/x-python",
   "name": "python",
   "nbconvert_exporter": "python",
   "pygments_lexer": "ipython2",
   "version": "2.7.6"
  }
 },
 "nbformat": 4,
 "nbformat_minor": 5
}
