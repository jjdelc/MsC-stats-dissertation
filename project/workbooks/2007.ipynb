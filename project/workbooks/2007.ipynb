{
 "cells": [
  {
   "cell_type": "code",
   "id": "initial_id",
   "metadata": {
    "ExecuteTime": {
     "end_time": "2024-05-23T18:59:24.347211Z",
     "start_time": "2024-05-23T18:59:24.175445Z"
    }
   },
   "source": [
    "from project.survey import SurveyReader\n",
    "import pandas as pd\n",
    "\n",
    "DATA_DIR = \"../../ENAHO/\"\n",
    "\n",
    "survey = SurveyReader(DATA_DIR)#, include_years={\"2007\"})\n",
    "survey.read_files()\n",
    "\n",
    "\n",
    "q_names = [\n",
    "    \"P314A\",\n",
    "    \"P314B$1\",\n",
    "    \"P314B$2\",\n",
    "    \"P314B$3\",\n",
    "    \"P314B$4\",\n",
    "    \"P314B$5\",\n",
    "    \"P314B$6\",\n",
    "    \"P314B$7\",\n",
    "    \"P314B1_1\"\n",
    "    \"P314B1_2\"\n",
    "    \"P314B1_6\"\n",
    "    \"P314B1_7\"\n",
    "    \"P314B1_8\"\n",
    "    \"P314B1_9\"\n",
    "    \"P314D\",\n",
    "    \"P3151\",\n",
    "    \"P3152\",\n",
    "    \"P3153\",\n",
    "    \"P3154\",\n",
    "    \"P3155\",\n",
    "    \"P3156\",\n",
    "]\n",
    "# internet_qs = survey.data_columns(\"03\", q_names)\n",
    "f2007 = survey.get_file(2007, \"03\")"
   ],
   "outputs": [
    {
     "ename": "ModuleNotFoundError",
     "evalue": "No module named '_pydevd_bundle.pydevd_collect_try_except_info'",
     "output_type": "error",
     "traceback": [
      "\u001B[0;31m---------------------------------------------------------------------------\u001B[0m",
      "\u001B[0;31mModuleNotFoundError\u001B[0m                       Traceback (most recent call last)",
      "Cell \u001B[0;32mIn[3], line 10\u001B[0m\n\u001B[1;32m      8\u001B[0m remove_imported_pydev_package()\n\u001B[1;32m      9\u001B[0m \u001B[38;5;28;01mimport\u001B[39;00m \u001B[38;5;21;01mpydev_jupyter_utils\u001B[39;00m\n\u001B[0;32m---> 10\u001B[0m \u001B[43mpydev_jupyter_utils\u001B[49m\u001B[38;5;241;43m.\u001B[39;49m\u001B[43mattach_to_debugger\u001B[49m\u001B[43m(\u001B[49m\u001B[38;5;241;43m40207\u001B[39;49m\u001B[43m)\u001B[49m\n",
      "File \u001B[0;32m~/Programs/pycharm/pycharm-2022.3.1/plugins/python/helpers-pro/jupyter_debug/pydev_jupyter_utils.py:74\u001B[0m, in \u001B[0;36mattach_to_debugger\u001B[0;34m(debugger_port)\u001B[0m\n\u001B[1;32m     71\u001B[0m \u001B[38;5;28;01mdef\u001B[39;00m \u001B[38;5;21mattach_to_debugger\u001B[39m(debugger_port):\n\u001B[1;32m     72\u001B[0m     ipython_shell \u001B[38;5;241m=\u001B[39m get_ipython()\n\u001B[0;32m---> 74\u001B[0m     \u001B[38;5;28;01mimport\u001B[39;00m \u001B[38;5;21;01mpydevd\u001B[39;00m\n\u001B[1;32m     75\u001B[0m     \u001B[38;5;28;01mfrom\u001B[39;00m \u001B[38;5;21;01m_pydev_bundle\u001B[39;00m \u001B[38;5;28;01mimport\u001B[39;00m pydev_localhost\n\u001B[1;32m     77\u001B[0m     debugger \u001B[38;5;241m=\u001B[39m pydevd\u001B[38;5;241m.\u001B[39mPyDB()\n",
      "File \u001B[0;32m~/Programs/pycharm/pycharm-2022.3.1/plugins/python/helpers/pydev/pydevd.py:16\u001B[0m\n\u001B[1;32m     13\u001B[0m \u001B[38;5;28;01mif\u001B[39;00m here \u001B[38;5;129;01mnot\u001B[39;00m \u001B[38;5;129;01min\u001B[39;00m sys\u001B[38;5;241m.\u001B[39mpath:\n\u001B[1;32m     14\u001B[0m     sys\u001B[38;5;241m.\u001B[39mpath\u001B[38;5;241m.\u001B[39minsert(\u001B[38;5;241m0\u001B[39m, here)\n\u001B[0;32m---> 16\u001B[0m \u001B[38;5;28;01mfrom\u001B[39;00m \u001B[38;5;21;01m_pydevd_bundle\u001B[39;00m\u001B[38;5;21;01m.\u001B[39;00m\u001B[38;5;21;01mpydevd_collect_try_except_info\u001B[39;00m \u001B[38;5;28;01mimport\u001B[39;00m collect_return_info\n\u001B[1;32m     18\u001B[0m \u001B[38;5;28;01mif\u001B[39;00m sys\u001B[38;5;241m.\u001B[39mversion_info[:\u001B[38;5;241m2\u001B[39m] \u001B[38;5;241m<\u001B[39m (\u001B[38;5;241m2\u001B[39m, \u001B[38;5;241m6\u001B[39m):\n\u001B[1;32m     19\u001B[0m     \u001B[38;5;28;01mraise\u001B[39;00m \u001B[38;5;167;01mRuntimeError\u001B[39;00m(\u001B[38;5;124m'\u001B[39m\u001B[38;5;124mThe PyDev.Debugger requires Python 2.6 onwards to be run. If you need to use an older Python version, use an older version of the debugger.\u001B[39m\u001B[38;5;124m'\u001B[39m)\n",
      "\u001B[0;31mModuleNotFoundError\u001B[0m: No module named '_pydevd_bundle.pydevd_collect_try_except_info'"
     ]
    }
   ],
   "execution_count": 2
  },
  {
   "cell_type": "code",
   "id": "b13bdc4690f97cfe",
   "metadata": {
    "ExecuteTime": {
     "end_time": "2024-05-23T18:47:55.078384Z",
     "start_time": "2024-05-23T18:47:55.073559Z"
    }
   },
   "source": [
    "print(f2007.meta.number_rows)"
   ],
   "outputs": [
    {
     "name": "stdout",
     "output_type": "stream",
     "text": [
      "87924\n"
     ]
    }
   ],
   "execution_count": 9
  }
 ],
 "metadata": {
  "kernelspec": {
   "display_name": "Python 3 (ipykernel)",
   "language": "python",
   "name": "python3"
  },
  "language_info": {
   "codemirror_mode": {
    "name": "ipython",
    "version": 3
   },
   "file_extension": ".py",
   "mimetype": "text/x-python",
   "name": "python",
   "nbconvert_exporter": "python",
   "pygments_lexer": "ipython3",
   "version": "3.10.12"
  }
 },
 "nbformat": 4,
 "nbformat_minor": 5
}
