{
 "cells": [
  {
   "cell_type": "code",
   "execution_count": 2,
   "id": "9f7c9869-7808-48e8-ad98-119761491ca6",
   "metadata": {
    "ExecuteTime": {
     "end_time": "2024-02-16T01:56:58.618639390Z",
     "start_time": "2024-02-16T01:56:58.613412662Z"
    }
   },
   "outputs": [],
   "source": [
    "from ..survey import SurveyReader\n",
    "from ..reporter import Reporter"
   ]
  },
  {
   "cell_type": "code",
   "execution_count": 3,
   "id": "a99224b0-d96e-4c2d-9922-166950de3c3a",
   "metadata": {
    "ExecuteTime": {
     "end_time": "2024-02-16T01:57:01.134027435Z",
     "start_time": "2024-02-16T01:56:58.666770896Z"
    }
   },
   "outputs": [],
   "source": [
    "DATA_DIR = \"../ENAHO/\"\n",
    "\n",
    "survey = SurveyReader(DATA_DIR)\n",
    "survey.read_files()\n",
    "reporter = Reporter(survey)\n",
    "yearly_modules = reporter.yearly_modules()\n",
    "yearly_cols = reporter.modules_dims(\"cols\")\n",
    "filenames = reporter.all_filenames()\n",
    "labels, modules = reporter.all_questions()\n",
    "s_file = survey.get_file(2022,\"01\")"
   ]
  },
  {
   "cell_type": "code",
   "execution_count": 13,
   "id": "ad43bf73-ceb0-420b-ba5b-e27795eeb1d0",
   "metadata": {
    "ExecuteTime": {
     "end_time": "2024-02-16T01:58:32.915032012Z",
     "start_time": "2024-02-16T01:58:32.874493913Z"
    }
   },
   "outputs": [
    {
     "data": {
      "text/plain": "('El material predominante en los pisos es:', 'Dominio Geográfico')"
     },
     "execution_count": 13,
     "metadata": {},
     "output_type": "execute_result"
    }
   ],
   "source": [
    "labels[\"P103\"], labels[\"DOMINIO\"]"
   ]
  },
  {
   "cell_type": "code",
   "outputs": [
    {
     "data": {
      "text/plain": "{1.0: 'Parquet o madera pulida',\n 2.0: 'Laminas asfalticas, vinilicos o similares',\n 3.0: 'Losetas, terrazos o similares',\n 4.0: 'Madera (pona, tornillo, etc)',\n 5.0: 'Cemento',\n 6.0: 'Tierra',\n 7.0: 'Otro material'}"
     },
     "execution_count": 9,
     "metadata": {},
     "output_type": "execute_result"
    }
   ],
   "source": [
    "value_labels = survey.value_labels(\"01\", [\"P103\"])\n",
    "value_labels[\"P103\"]"
   ],
   "metadata": {
    "collapsed": false,
    "ExecuteTime": {
     "end_time": "2024-02-16T01:57:30.679217187Z",
     "start_time": "2024-02-16T01:57:30.637172535Z"
    }
   },
   "id": "68277183808f319b",
   "execution_count": 9
  },
  {
   "cell_type": "code",
   "outputs": [
    {
     "data": {
      "text/plain": "['DOMINIO',\n 'ESTRATO',\n 'NBI1',\n 'NBI2',\n 'NBI3',\n 'NBI4',\n 'NBI5',\n 'P101',\n 'P102',\n 'P103',\n 'P103A',\n 'P104B1',\n 'P104B2',\n 'P105A',\n 'P106A',\n 'P106B',\n 'P107B1',\n 'P107B2',\n 'P107B3',\n 'P107B4',\n 'P107C11',\n 'P107C110',\n 'P107C12',\n 'P107C13',\n 'P107C14',\n 'P107C16',\n 'P107C17',\n 'P107C18',\n 'P107C19',\n 'P107C21',\n 'P107C210',\n 'P107C22',\n 'P107C23',\n 'P107C24',\n 'P107C26',\n 'P107C27',\n 'P107C28',\n 'P107C29',\n 'P107C31',\n 'P107C310',\n 'P107C32',\n 'P107C33',\n 'P107C34',\n 'P107C36',\n 'P107C37',\n 'P107C38',\n 'P107C39',\n 'P107C41',\n 'P107C410',\n 'P107C42',\n 'P107C43',\n 'P107C44',\n 'P107C46',\n 'P107C47',\n 'P107C48',\n 'P107C49',\n 'P107E',\n 'P110',\n 'P110A',\n 'P110A1',\n 'P110C',\n 'P110D',\n 'P110E',\n 'P110F',\n 'P110G',\n 'P111A',\n 'P1121',\n 'P1123',\n 'P1124',\n 'P1125',\n 'P1126',\n 'P1127',\n 'P112A',\n 'P1131',\n 'P1132',\n 'P1133',\n 'P1135',\n 'P1136',\n 'P1137',\n 'P1138',\n 'P1139',\n 'P113A',\n 'P1141',\n 'P1142',\n 'P1143',\n 'P1144',\n 'P1145',\n 'P1171$01',\n 'P1171$02',\n 'P1171$04',\n 'P1171$05',\n 'P1171$06',\n 'P1171$07',\n 'P1171$08',\n 'P1171$09',\n 'P1171$10',\n 'P1171$11',\n 'P1171$12',\n 'P1171$13',\n 'P1171$14',\n 'P1171$15',\n 'P1171$16',\n 'P1175$01',\n 'P1175$02',\n 'P1175$04',\n 'P1175$05',\n 'P1175$06',\n 'P1175$07',\n 'P1175$08',\n 'P1175$09',\n 'P1175$10',\n 'P1175$11',\n 'P1175$12',\n 'P1175$13',\n 'P1175$14',\n 'P1175$15',\n 'P1175$16',\n 'P22',\n 'P24A',\n 'P24B',\n 'P25$1',\n 'P25$2',\n 'P25$3',\n 'P25$4',\n 'P25$5',\n 'P612I1',\n 'P612I2',\n 'PANEL',\n 'RESULT',\n 'T110',\n 'T111A',\n 'TICUEST01',\n 'TIPENC']"
     },
     "execution_count": 12,
     "metadata": {},
     "output_type": "execute_result"
    }
   ],
   "source": [
    "sorted(s_file._meta.variable_value_labels.keys())"
   ],
   "metadata": {
    "collapsed": false,
    "ExecuteTime": {
     "end_time": "2024-02-16T01:58:06.818066024Z",
     "start_time": "2024-02-16T01:58:06.813810024Z"
    }
   },
   "id": "13035df9707de45a",
   "execution_count": 12
  }
 ],
 "metadata": {
  "kernelspec": {
   "display_name": "Python 3 (ipykernel)",
   "language": "python",
   "name": "python3"
  },
  "language_info": {
   "codemirror_mode": {
    "name": "ipython",
    "version": 3
   },
   "file_extension": ".py",
   "mimetype": "text/x-python",
   "name": "python",
   "nbconvert_exporter": "python",
   "pygments_lexer": "ipython3",
   "version": "3.10.12"
  }
 },
 "nbformat": 4,
 "nbformat_minor": 5
}
