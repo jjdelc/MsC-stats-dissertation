{
 "cells": [
  {
   "cell_type": "code",
   "id": "initial_id",
   "metadata": {
    "collapsed": true,
    "ExecuteTime": {
     "end_time": "2024-07-13T16:55:46.788071Z",
     "start_time": "2024-07-13T16:55:46.221882Z"
    }
   },
   "source": [
    "from project.survey import SurveyReader\n",
    "from project.constants import DATA_DIR, STUDY_YEARS\n",
    "\n",
    "survey = SurveyReader(DATA_DIR, include_years=STUDY_YEARS)\n",
    "survey.read_files()\n",
    "\n",
    "# Home characteristics\n",
    "q_names_02 = [\n",
    "    \"P208A\", # Age\n",
    "]\n"
   ],
   "outputs": [],
   "execution_count": 1
  },
  {
   "metadata": {
    "ExecuteTime": {
     "end_time": "2024-07-13T16:55:47.666144Z",
     "start_time": "2024-07-13T16:55:46.789785Z"
    }
   },
   "cell_type": "code",
   "source": [
    "age = survey.data_columns(\"02\", q_names_02)\n",
    "# age = age.rename(columns={\"P208A\": \"EDAD\"})"
   ],
   "id": "d66ea4aeadf76464",
   "outputs": [],
   "execution_count": 2
  },
  {
   "metadata": {
    "ExecuteTime": {
     "end_time": "2024-07-13T16:55:47.687850Z",
     "start_time": "2024-07-13T16:55:47.667731Z"
    }
   },
   "cell_type": "code",
   "source": "age[age[\"PERSON_KEY\"] == \"2020010050090411101\"]",
   "id": "e89a2a63d5c4f05b",
   "outputs": [
    {
     "data": {
      "text/plain": [
       "Empty DataFrame\n",
       "Columns: [AÑO, MES, UBIGEO, CONGLOME, VIVIENDA, HOGAR, DOMINIO, ESTRATO, CODPERSO, P208A, HOUSE_KEY, PERSON_KEY, PERIODO, RURAL]\n",
       "Index: []"
      ],
      "text/html": [
       "<div>\n",
       "<style scoped>\n",
       "    .dataframe tbody tr th:only-of-type {\n",
       "        vertical-align: middle;\n",
       "    }\n",
       "\n",
       "    .dataframe tbody tr th {\n",
       "        vertical-align: top;\n",
       "    }\n",
       "\n",
       "    .dataframe thead th {\n",
       "        text-align: right;\n",
       "    }\n",
       "</style>\n",
       "<table border=\"1\" class=\"dataframe\">\n",
       "  <thead>\n",
       "    <tr style=\"text-align: right;\">\n",
       "      <th></th>\n",
       "      <th>AÑO</th>\n",
       "      <th>MES</th>\n",
       "      <th>UBIGEO</th>\n",
       "      <th>CONGLOME</th>\n",
       "      <th>VIVIENDA</th>\n",
       "      <th>HOGAR</th>\n",
       "      <th>DOMINIO</th>\n",
       "      <th>ESTRATO</th>\n",
       "      <th>CODPERSO</th>\n",
       "      <th>P208A</th>\n",
       "      <th>HOUSE_KEY</th>\n",
       "      <th>PERSON_KEY</th>\n",
       "      <th>PERIODO</th>\n",
       "      <th>RURAL</th>\n",
       "    </tr>\n",
       "  </thead>\n",
       "  <tbody>\n",
       "  </tbody>\n",
       "</table>\n",
       "</div>"
      ]
     },
     "execution_count": 3,
     "metadata": {},
     "output_type": "execute_result"
    }
   ],
   "execution_count": 3
  },
  {
   "metadata": {
    "ExecuteTime": {
     "end_time": "2024-07-13T16:55:47.715600Z",
     "start_time": "2024-07-13T16:55:47.689335Z"
    }
   },
   "cell_type": "code",
   "source": [
    "unique_person = len(age[\"PERSON_KEY\"].unique())\n",
    "unique_house = len(age[\"HOUSE_KEY\"].unique())\n",
    "print(unique_house, unique_person)"
   ],
   "id": "edde99052599b916",
   "outputs": [
    {
     "name": "stdout",
     "output_type": "stream",
     "text": [
      "33886 119747\n"
     ]
    }
   ],
   "execution_count": 4
  },
  {
   "metadata": {
    "ExecuteTime": {
     "end_time": "2024-07-13T16:55:47.743436Z",
     "start_time": "2024-07-13T16:55:47.716765Z"
    }
   },
   "cell_type": "code",
   "source": "len(age[age[\"P208A\"] >=14])",
   "id": "167b91f1b3a3e247",
   "outputs": [
    {
     "data": {
      "text/plain": [
       "89446"
      ]
     },
     "execution_count": 5,
     "metadata": {},
     "output_type": "execute_result"
    }
   ],
   "execution_count": 5
  },
  {
   "metadata": {
    "ExecuteTime": {
     "end_time": "2024-07-13T16:55:47.775762Z",
     "start_time": "2024-07-13T16:55:47.744929Z"
    }
   },
   "cell_type": "code",
   "source": "age[age[\"PERSON_KEY\"] == \"2023020169720231105\"]",
   "id": "5e3a7a01382c833e",
   "outputs": [
    {
     "data": {
      "text/plain": [
       "        AÑO MES  UBIGEO CONGLOME VIVIENDA HOGAR  DOMINIO  ESTRATO CODPERSO  \\\n",
       "50372  2023  02  110503   016972      023    11      2.0      5.0       05   \n",
       "\n",
       "       P208A          HOUSE_KEY           PERSON_KEY PERIODO  RURAL  \n",
       "50372   23.0  20230201697202311  2023020169720231105  202302  False  "
      ],
      "text/html": [
       "<div>\n",
       "<style scoped>\n",
       "    .dataframe tbody tr th:only-of-type {\n",
       "        vertical-align: middle;\n",
       "    }\n",
       "\n",
       "    .dataframe tbody tr th {\n",
       "        vertical-align: top;\n",
       "    }\n",
       "\n",
       "    .dataframe thead th {\n",
       "        text-align: right;\n",
       "    }\n",
       "</style>\n",
       "<table border=\"1\" class=\"dataframe\">\n",
       "  <thead>\n",
       "    <tr style=\"text-align: right;\">\n",
       "      <th></th>\n",
       "      <th>AÑO</th>\n",
       "      <th>MES</th>\n",
       "      <th>UBIGEO</th>\n",
       "      <th>CONGLOME</th>\n",
       "      <th>VIVIENDA</th>\n",
       "      <th>HOGAR</th>\n",
       "      <th>DOMINIO</th>\n",
       "      <th>ESTRATO</th>\n",
       "      <th>CODPERSO</th>\n",
       "      <th>P208A</th>\n",
       "      <th>HOUSE_KEY</th>\n",
       "      <th>PERSON_KEY</th>\n",
       "      <th>PERIODO</th>\n",
       "      <th>RURAL</th>\n",
       "    </tr>\n",
       "  </thead>\n",
       "  <tbody>\n",
       "    <tr>\n",
       "      <th>50372</th>\n",
       "      <td>2023</td>\n",
       "      <td>02</td>\n",
       "      <td>110503</td>\n",
       "      <td>016972</td>\n",
       "      <td>023</td>\n",
       "      <td>11</td>\n",
       "      <td>2.0</td>\n",
       "      <td>5.0</td>\n",
       "      <td>05</td>\n",
       "      <td>23.0</td>\n",
       "      <td>20230201697202311</td>\n",
       "      <td>2023020169720231105</td>\n",
       "      <td>202302</td>\n",
       "      <td>False</td>\n",
       "    </tr>\n",
       "  </tbody>\n",
       "</table>\n",
       "</div>"
      ]
     },
     "execution_count": 6,
     "metadata": {},
     "output_type": "execute_result"
    }
   ],
   "execution_count": 6
  },
  {
   "metadata": {
    "ExecuteTime": {
     "end_time": "2024-07-13T16:59:29.047763Z",
     "start_time": "2024-07-13T16:59:29.041083Z"
    }
   },
   "cell_type": "code",
   "source": "survey._files[\"2023\"][\"34\"].filename",
   "id": "504cf0a69b2f55d0",
   "outputs": [
    {
     "data": {
      "text/plain": [
       "'Sumaria-2023-12g.sav'"
      ]
     },
     "execution_count": 15,
     "metadata": {},
     "output_type": "execute_result"
    }
   ],
   "execution_count": 15
  }
 ],
 "metadata": {
  "kernelspec": {
   "display_name": "Python 3",
   "language": "python",
   "name": "python3"
  },
  "language_info": {
   "codemirror_mode": {
    "name": "ipython",
    "version": 2
   },
   "file_extension": ".py",
   "mimetype": "text/x-python",
   "name": "python",
   "nbconvert_exporter": "python",
   "pygments_lexer": "ipython2",
   "version": "2.7.6"
  }
 },
 "nbformat": 4,
 "nbformat_minor": 5
}
