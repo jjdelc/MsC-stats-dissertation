{
 "cells": [
  {
   "cell_type": "code",
   "id": "initial_id",
   "metadata": {
    "collapsed": true,
    "ExecuteTime": {
     "end_time": "2024-07-21T16:14:55.807676Z",
     "start_time": "2024-07-21T16:14:55.798357Z"
    }
   },
   "source": [
    "from project.survey.survey import SurveyReader\n",
    "from project.constants import DATA_DIR, STUDY_YEARS\n",
    "\n",
    "survey = SurveyReader(DATA_DIR, include_years=STUDY_YEARS)\n",
    "survey.read_files()\n",
    "\n",
    "# Home characteristics\n",
    "q_names_01 = [\n",
    "    \"P1141\", # House has landline\n",
    "    \"P1142\", # Owns Cell phone at home\n",
    "    \"P1144\",  # Has Internet connection\n",
    "    \"P1145\", # Does NOT have phone/pc/internet\n",
    "    # \"P1144B1\", # Has internet, landline\n",
    "    # \"P1144B2\", # Has internet, mobile - Control plan\n",
    "    # \"P1144B3\", # Has internet, mobile - Prepaid\n",
    "    # \"P1145\",  # Does not have Tv/Radio/Internet\n",
    "    \"TIPENC\", \"RESULT\", \"PANEL\"\n",
    "]\n",
    "\n",
    "# Education module\n",
    "q_names_03 = [\n",
    "    \"P316$1\", # Used internet for retrieve information\n",
    "    \"P316$2\", # Used internet for communication\n",
    "    \"P316$3\", # Used internet for purchase\n",
    "    \"P316$4\", # Used internet for banking\n",
    "    \"P316$5\", # Used internet for education\n",
    "    \"P316$6\", # Used internet for transactions\n",
    "    \"P316$7\", # Used internet for entertainment\n",
    "    \"P316$8\", # Used internet for selling\n",
    "    # \"P316$9\", # Used internet for ***\n",
    "    # \"P316$10\", # Used internet for ***\n",
    "    # \"P316$11\", # Used internet for ***\n",
    "    # \"P316$12\", # Used internet for ***\n",
    "    # \"P316$13\", # Used internet for ***\n",
    "    # \"P316$14\", # Used internet for ***\n",
    "]\n",
    "\n",
    "# Home equipment\n",
    "q_names_18 = [\n",
    "    \"P612N\",  # Home equipment\n",
    "    \"P612\",  # Home equipment\n",
    "]\n",
    "\n",
    "classifications = \"\"\"\n",
    "* Owns Radio and TV set\n",
    "* Owns Telephone\n",
    "* Uses Internet in Telecenters\n",
    "* Has Computer and Internet in Household\n",
    "\"\"\"\n",
    "\n",
    "P612N = \"\"\"\n",
    "\"P612N\"  # Home equipment\n",
    "Equipamiento del hogar\n",
    "1.Radio\n",
    "2.TV a color\n",
    "3.TV blanco y negro\n",
    "4.Equipo de sonido\n",
    "5.DVD\n",
    "6.Video grabadora\n",
    "7.Computadora/laptop\n",
    "8.Plancha electrica\n",
    "9.Licuadora\n",
    "10.Cocina a gas\n",
    "11.Cocina a kerosene\n",
    "12.Refrigeradora/congeladora\n",
    "13.Lavadora de ropa\n",
    "14.Horno microondas\n",
    "15.Máquina de coser\n",
    "16.Bicicleta\n",
    "17.Auto, camioneta\n",
    "18.Motocicleta\n",
    "19.Triciclo\n",
    "20.Mototaxi\n",
    "21.Camión\n",
    "\"\"\""
   ],
   "outputs": [],
   "execution_count": 2
  },
  {
   "metadata": {
    "ExecuteTime": {
     "end_time": "2024-07-21T16:14:57.858577Z",
     "start_time": "2024-07-21T16:14:56.886191Z"
    }
   },
   "cell_type": "code",
   "source": [
    "connectivity = survey.data_columns(\"01\", q_names_01, include_demographics=False)\n",
    "# connectivity[\"has_landline\"] = connectivity[\"P1141\"] == 1\n",
    "# connectivity[\"cellphone_at_home\"] = connectivity[\"P1142\"] == 1\n",
    "# connectivity[\"home_internet_connection\"] = connectivity[\"P1144\"] == 1\n",
    "# connectivity[\"no_equipment\"] = connectivity[\"P1145\"] == 1\n",
    "# r = connectivity[\"HOUSE_KEY\"].unique()\n",
    "# len(r)\n",
    "# connectivity"
   ],
   "id": "21d736c51427d88a",
   "outputs": [],
   "execution_count": 3
  },
  {
   "metadata": {},
   "cell_type": "code",
   "source": [
    "internet_use = survey.data_columns(\"03\", q_names_03)#.sample(50000)\n",
    "r = internet_use[\"PERSON_KEY\"].unique()\n",
    "internet_use"
   ],
   "id": "2131690bbab242b3",
   "outputs": [],
   "execution_count": null
  },
  {
   "metadata": {},
   "cell_type": "code",
   "source": [
    "equipment = survey.data_columns(\"18\", q_names_18)\n",
    "unique_house = len(equipment[\"HOUSE_KEY\"].unique())\n",
    "print(unique_house)"
   ],
   "id": "78dece4a1dedbbd6",
   "outputs": [],
   "execution_count": null
  },
  {
   "metadata": {},
   "cell_type": "code",
   "source": "connectivity",
   "id": "b7769da75190e606",
   "outputs": [],
   "execution_count": null
  },
  {
   "metadata": {},
   "cell_type": "code",
   "source": [
    "equipment[\"has_radio_tv\"] = (equipment[\"P612N\"] <= 3) & (equipment[\"P612\"] == 1)\n",
    "equipment[\"has_computer\"] = (equipment[\"P612N\"] == 7) & (equipment[\"P612\"] == 1)\n",
    "equipment"
   ],
   "id": "f7d2705f81b896d",
   "outputs": [],
   "execution_count": null
  },
  {
   "metadata": {},
   "cell_type": "code",
   "source": [
    "aggregations = {\"has_radio_tv\": \"any\", \"has_computer\": \"any\"}\n",
    "equipment_per_house = equipment.groupby(\"HOUSE_KEY\").agg(aggregations)"
   ],
   "id": "84316546b419fc80",
   "outputs": [],
   "execution_count": null
  },
  {
   "metadata": {},
   "cell_type": "code",
   "source": "equipment_per_house",
   "id": "e5c6757666619bf0",
   "outputs": [],
   "execution_count": null
  },
  {
   "metadata": {},
   "cell_type": "code",
   "source": [
    "import pandas as pd\n",
    "house_stats = pd.merge(equipment_per_house, connectivity, on=[\"HOUSE_KEY\"])"
   ],
   "id": "8fb95ab985b86fd3",
   "outputs": [],
   "execution_count": null
  },
  {
   "metadata": {},
   "cell_type": "code",
   "source": "house_stats",
   "id": "c9aa2d8e8409448",
   "outputs": [],
   "execution_count": null
  },
  {
   "metadata": {},
   "cell_type": "code",
   "source": "len(house_stats)",
   "id": "c1e8ee76451098bc",
   "outputs": [],
   "execution_count": null
  },
  {
   "metadata": {},
   "cell_type": "code",
   "source": "len(connectivity[connectivity[\"RESULT\"] == 1])",
   "id": "c7576bd5eb5504e2",
   "outputs": [],
   "execution_count": null
  },
  {
   "metadata": {},
   "cell_type": "code",
   "source": "",
   "id": "d8a978f919f06dcd",
   "outputs": [],
   "execution_count": null
  }
 ],
 "metadata": {
  "kernelspec": {
   "display_name": "Python 3",
   "language": "python",
   "name": "python3"
  },
  "language_info": {
   "codemirror_mode": {
    "name": "ipython",
    "version": 2
   },
   "file_extension": ".py",
   "mimetype": "text/x-python",
   "name": "python",
   "nbconvert_exporter": "python",
   "pygments_lexer": "ipython2",
   "version": "2.7.6"
  }
 },
 "nbformat": 4,
 "nbformat_minor": 5
}
