{
 "cells": [
  {
   "cell_type": "code",
   "execution_count": null,
   "id": "initial_id",
   "metadata": {
    "collapsed": true
   },
   "outputs": [],
   "source": [
    "\"\"\"\n",
    "Here we collect the explanatory variables:\n",
    "\n",
    " # Household income\n",
    " # Household region (Coast/Highland/Jungle)\n",
    " # Household zone (Rural/Urban)\n",
    " # Person's age\n",
    " # Person's gender\n",
    " # Study level\n",
    " # Literacy\n",
    " # Electric grid\n",
    " # Internet supply  # P1121\n",
    " # Internet use\n",
    "\"\"\""
   ]
  }
 ],
 "metadata": {
  "kernelspec": {
   "display_name": "Python 3",
   "language": "python",
   "name": "python3"
  },
  "language_info": {
   "codemirror_mode": {
    "name": "ipython",
    "version": 2
   },
   "file_extension": ".py",
   "mimetype": "text/x-python",
   "name": "python",
   "nbconvert_exporter": "python",
   "pygments_lexer": "ipython2",
   "version": "2.7.6"
  }
 },
 "nbformat": 4,
 "nbformat_minor": 5
}
