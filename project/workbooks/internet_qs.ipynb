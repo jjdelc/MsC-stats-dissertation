{
 "cells": [
  {
   "cell_type": "code",
   "id": "initial_id",
   "metadata": {
    "ExecuteTime": {
     "end_time": "2024-07-30T22:41:51.777039Z",
     "start_time": "2024-07-30T22:41:51.734533Z"
    }
   },
   "source": [
    "import pandas as pd\n",
    "\n",
    "from project.survey.survey import SurveyReader\n",
    "from project.constants import DATA_DIR, STUDY_YEARS\n",
    "\n",
    "\n",
    "survey = SurveyReader(DATA_DIR, include_years=STUDY_YEARS)\n",
    "survey.read_files()\n",
    "\n",
    "\n",
    "internet_access_qs = [\n",
    "    \"P314A\",  # Used internet in the last month\n",
    "    \"P314B$1\",  # Used internet at home\n",
    "    \"P314B$2\",  # Used internet at work\n",
    "    \"P314B$3\",  # Used internet in school\n",
    "    \"P314B$4\",  # Used internet in telecenter\n",
    "    \"P314B$5\",  # Used internet in someone else's house'\n",
    "    # \"P314B$6\",  # 2015+  Used internet \"other\"\n",
    "    # \"P314B$7\",  # 2016+  Used internet in cell phone\n",
    "    # \"P314B1_1\",  # 2016+  Used internet in Desktop computer\n",
    "    # \"P314B1_2\",  # 2016+  Used internet in Laptop\n",
    "    # \"P314B1_6\",  # 2016+  Used internet in tablet\n",
    "    # \"P314B1_7\",  # 2016+  Used internet 'other'\n",
    "    # \"P314B1_8\",  # 2019+  Used internet No data plan\n",
    "    # \"P314B1_9\",  # 2019+  Used internet with data plan\n",
    "    \"P314D\",  # Internet use frequency, \n",
    "    \"P3151\",  # Used internet in telecenter: Paid\n",
    "    \"P3152\",  # Used internet in telecenter: auto provided\n",
    "    \"P3153\",  # Used internet in telecenter: Paid with goods\n",
    "    \"P3154\",  # Used internet in telecenter: Other homes\n",
    "    \"P3155\",  # Used internet in telecenter: Social program\n",
    "    \"P3156\",  # Used internet in telecenter: Other\n",
    "]\n"
   ],
   "outputs": [],
   "execution_count": 10
  },
  {
   "metadata": {
    "ExecuteTime": {
     "end_time": "2024-07-30T22:41:52.675890Z",
     "start_time": "2024-07-30T22:41:51.777974Z"
    }
   },
   "cell_type": "code",
   "source": [
    "# We want module 01 to filter only completed surveys\n",
    "q_names_01 = [\"RESULT\"]\n",
    "module_01 = survey.data_columns(\"01\", q_names_01, include_demographics=False)\n"
   ],
   "id": "d76bb65ecc4b0c8f",
   "outputs": [],
   "execution_count": 11
  },
  {
   "cell_type": "code",
   "id": "b13bdc4690f97cfe",
   "metadata": {
    "ExecuteTime": {
     "end_time": "2024-07-30T22:41:54.930413Z",
     "start_time": "2024-07-30T22:41:52.676735Z"
    }
   },
   "source": [
    "  # Used internet in telecenter: Paidinternet_qs = survey.data_columns(\"03\", q_names)\n",
    "module_03 = survey.data_columns(\"03\", internet_access_qs)\n",
    "internet_qs = pd.merge(module_03, module_01, on=[\"HOUSE_KEY\"], how=\"left\")\n",
    "\n",
    "# Merge with module 1 that allows us to filter only the survey answers\n",
    "# that have been completed `RESULT == 1`\n",
    "internet_qs = internet_qs[internet_qs[\"RESULT\"] == 1]\n",
    "\n",
    "unique_person = len(module_03[\"PERSON_KEY\"].unique())\n",
    "unique_house = len(module_03[\"HOUSE_KEY\"].unique())\n",
    "print(f\"Total houses\\t\\t {unique_house}\")\n",
    "print(f\"Total individuals:\\t{unique_person}\")"
   ],
   "outputs": [
    {
     "name": "stdout",
     "output_type": "stream",
     "text": [
      "Total houses\t\t 33886\n",
      "Total individuals:\t108354\n"
     ]
    }
   ],
   "execution_count": 12
  },
  {
   "metadata": {},
   "cell_type": "markdown",
   "source": "",
   "id": "6c40a67434871f4d"
  },
  {
   "metadata": {
    "ExecuteTime": {
     "end_time": "2024-07-30T22:41:54.936299Z",
     "start_time": "2024-07-30T22:41:54.931532Z"
    }
   },
   "cell_type": "code",
   "source": [
    "internet_qs[\"uses_telecenter\"] = (internet_qs[\"P314B$4\"] == 4) & (internet_qs[\"P314A\"] == 1)\n",
    "internet_qs[\"uses_telecenter\"] = internet_qs[\"uses_telecenter\"].astype(int)\n",
    "internet_qs[\"home_internet\"] = internet_qs[\"P314B$1\"] == 1\n",
    "internet_qs[\"internet_elsewhere\"] = (internet_qs[\"P314B$2\"] == 1) | (internet_qs[\"P314B$3\"] == 1) | (internet_qs[\"P314B$5\"] == 1)\n",
    "print(len(internet_qs[\"P314B$4\"] == 4))"
   ],
   "id": "7b0a29a46c2e57b1",
   "outputs": [
    {
     "name": "stdout",
     "output_type": "stream",
     "text": [
      "90498\n"
     ]
    }
   ],
   "execution_count": 13
  },
  {
   "metadata": {
    "ExecuteTime": {
     "end_time": "2024-07-30T22:41:54.945682Z",
     "start_time": "2024-07-30T22:41:54.937288Z"
    }
   },
   "cell_type": "code",
   "source": [
    "uses_telecenters = internet_qs[internet_qs[\"uses_telecenter\"] == 1]\n",
    "print(len(internet_qs[internet_qs[\"uses_telecenter\"] == 1]))\n",
    "print(100*len(internet_qs[internet_qs[\"uses_telecenter\"] == 1])/len(internet_qs))"
   ],
   "id": "8a240be8346d4992",
   "outputs": [
    {
     "name": "stdout",
     "output_type": "stream",
     "text": [
      "501\n",
      "0.5536033945501558\n"
     ]
    }
   ],
   "execution_count": 14
  },
  {
   "metadata": {
    "ExecuteTime": {
     "end_time": "2024-07-30T22:41:54.949406Z",
     "start_time": "2024-07-30T22:41:54.946533Z"
    }
   },
   "cell_type": "code",
   "source": [
    "value_labels = survey.value_labels(\"01\", [\"DOMINIO\"])[\"DOMINIO\"]\n",
    "value_labels"
   ],
   "id": "8b90a4ae9e88b5cb",
   "outputs": [
    {
     "data": {
      "text/plain": [
       "{1.0: 'Costa Norte',\n",
       " 2.0: 'Costa Centro',\n",
       " 3.0: 'Costa Sur',\n",
       " 4.0: 'Sierra Norte',\n",
       " 5.0: 'Sierra Centro',\n",
       " 6.0: 'Sierra Sur',\n",
       " 7.0: 'Selva',\n",
       " 8.0: 'Lima Metropolitana'}"
      ]
     },
     "execution_count": 15,
     "metadata": {},
     "output_type": "execute_result"
    }
   ],
   "execution_count": 15
  },
  {
   "metadata": {
    "ExecuteTime": {
     "end_time": "2024-07-30T22:41:54.956729Z",
     "start_time": "2024-07-30T22:41:54.950862Z"
    }
   },
   "cell_type": "code",
   "source": [
    "counts = uses_telecenters['DOMINIO'].value_counts().reset_index(name='count')\n",
    "counts = counts.sort_values(\"DOMINIO\")\n",
    "counts"
   ],
   "id": "abb2fb0599708aca",
   "outputs": [
    {
     "data": {
      "text/plain": [
       "   DOMINIO  count\n",
       "4      1.0     35\n",
       "5      2.0     33\n",
       "3      3.0     50\n",
       "7      4.0      9\n",
       "0      5.0    136\n",
       "2      6.0     99\n",
       "1      7.0    113\n",
       "6      8.0     26"
      ],
      "text/html": [
       "<div>\n",
       "<style scoped>\n",
       "    .dataframe tbody tr th:only-of-type {\n",
       "        vertical-align: middle;\n",
       "    }\n",
       "\n",
       "    .dataframe tbody tr th {\n",
       "        vertical-align: top;\n",
       "    }\n",
       "\n",
       "    .dataframe thead th {\n",
       "        text-align: right;\n",
       "    }\n",
       "</style>\n",
       "<table border=\"1\" class=\"dataframe\">\n",
       "  <thead>\n",
       "    <tr style=\"text-align: right;\">\n",
       "      <th></th>\n",
       "      <th>DOMINIO</th>\n",
       "      <th>count</th>\n",
       "    </tr>\n",
       "  </thead>\n",
       "  <tbody>\n",
       "    <tr>\n",
       "      <th>4</th>\n",
       "      <td>1.0</td>\n",
       "      <td>35</td>\n",
       "    </tr>\n",
       "    <tr>\n",
       "      <th>5</th>\n",
       "      <td>2.0</td>\n",
       "      <td>33</td>\n",
       "    </tr>\n",
       "    <tr>\n",
       "      <th>3</th>\n",
       "      <td>3.0</td>\n",
       "      <td>50</td>\n",
       "    </tr>\n",
       "    <tr>\n",
       "      <th>7</th>\n",
       "      <td>4.0</td>\n",
       "      <td>9</td>\n",
       "    </tr>\n",
       "    <tr>\n",
       "      <th>0</th>\n",
       "      <td>5.0</td>\n",
       "      <td>136</td>\n",
       "    </tr>\n",
       "    <tr>\n",
       "      <th>2</th>\n",
       "      <td>6.0</td>\n",
       "      <td>99</td>\n",
       "    </tr>\n",
       "    <tr>\n",
       "      <th>1</th>\n",
       "      <td>7.0</td>\n",
       "      <td>113</td>\n",
       "    </tr>\n",
       "    <tr>\n",
       "      <th>6</th>\n",
       "      <td>8.0</td>\n",
       "      <td>26</td>\n",
       "    </tr>\n",
       "  </tbody>\n",
       "</table>\n",
       "</div>"
      ]
     },
     "execution_count": 16,
     "metadata": {},
     "output_type": "execute_result"
    }
   ],
   "execution_count": 16
  },
  {
   "metadata": {
    "ExecuteTime": {
     "end_time": "2024-07-30T22:41:54.960518Z",
     "start_time": "2024-07-30T22:41:54.957694Z"
    }
   },
   "cell_type": "code",
   "source": [
    "value_labels = survey.value_labels(\"01\", [\"DOMINIO\"])[\"DOMINIO\"]\n",
    "value_labels"
   ],
   "id": "5b8abe6abe230b21",
   "outputs": [
    {
     "data": {
      "text/plain": [
       "{1.0: 'Costa Norte',\n",
       " 2.0: 'Costa Centro',\n",
       " 3.0: 'Costa Sur',\n",
       " 4.0: 'Sierra Norte',\n",
       " 5.0: 'Sierra Centro',\n",
       " 6.0: 'Sierra Sur',\n",
       " 7.0: 'Selva',\n",
       " 8.0: 'Lima Metropolitana'}"
      ]
     },
     "execution_count": 17,
     "metadata": {},
     "output_type": "execute_result"
    }
   ],
   "execution_count": 17
  },
  {
   "metadata": {
    "ExecuteTime": {
     "end_time": "2024-07-30T22:41:55.107453Z",
     "start_time": "2024-07-30T22:41:54.961314Z"
    }
   },
   "cell_type": "code",
   "source": [
    "import seaborn as sns\n",
    "from matplotlib import pyplot as plt\n",
    "\n",
    "sns.set(style='whitegrid', palette=\"deep\", font_scale=1.1, rc={\"figure.figsize\": [8, 5]})\n",
    "sns.barplot(counts, x=\"DOMINIO\", y=\"count\")\n",
    "plt.xticks(rotation=90, ha='right')\n",
    "plt.xticks(counts['DOMINIO'], [value_labels[x] for x in counts['DOMINIO']])\n",
    "plt.tight_layout()\n",
    "plt.show()"
   ],
   "id": "574f7fbe3cbd7099",
   "outputs": [
    {
     "data": {
      "text/plain": [
       "<Figure size 800x500 with 1 Axes>"
      ],
      "image/png": "[encoded data removed]"
     },
     "metadata": {},
     "output_type": "display_data"
    }
   ],
   "execution_count": 18
  }
 ],
 "metadata": {
  "kernelspec": {
   "display_name": "Python 3 (ipykernel)",
   "language": "python",
   "name": "python3"
  },
  "language_info": {
   "codemirror_mode": {
    "name": "ipython",
    "version": 3
   },
   "file_extension": ".py",
   "mimetype": "text/x-python",
   "name": "python",
   "nbconvert_exporter": "python",
   "pygments_lexer": "ipython3",
   "version": "3.10.12"
  }
 },
 "nbformat": 4,
 "nbformat_minor": 5
}
