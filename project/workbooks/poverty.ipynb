{
 "cells": [
  {
   "cell_type": "code",
   "id": "initial_id",
   "metadata": {
    "collapsed": true,
    "ExecuteTime": {
     "end_time": "2024-07-29T23:10:40.457854Z",
     "start_time": "2024-07-29T23:10:40.444375Z"
    }
   },
   "source": [
    "from project.survey.survey import SurveyReader\n",
    "from project.constants import DATA_DIR, STUDY_YEARS\n",
    "import pandas as pd\n",
    "\n",
    "STUDY_YEARS = {\"2023\"}\n",
    "\n",
    "survey = SurveyReader(DATA_DIR, include_years=STUDY_YEARS)\n",
    "survey.read_files()"
   ],
   "outputs": [],
   "execution_count": 15
  },
  {
   "metadata": {
    "ExecuteTime": {
     "end_time": "2024-07-29T23:25:39.425093Z",
     "start_time": "2024-07-29T23:25:39.394651Z"
    }
   },
   "cell_type": "code",
   "source": [
    "# Summary of the weighted percents of poverty\n",
    "# Matches https://www.youtube.com/watch?v=LkWgRqG2y-w\n",
    "\n",
    "# SUMMARY_FIELDS = [\"POBREZA\", \"INGHOG2D\", \"LINPE\", \"LINEA\", \"ESTRSOCIAL\", \"MIEPERHO\", \"FACTOR07\"]\n",
    "SUMMARY_FIELDS = [\"POBREZA\", \"INGHOG2D\", \"LINPE\", \"LINEA\", \"MIEPERHO\", \"FACTOR07\", \"DOMINIO\"]\n",
    "SUMMARY_FIELDS = [\"POBREZA\", \"INGHOG2D\", \"LINPE\", \"LINEA\", \"MIEPERHO\", \"FACTOR07\"]\n",
    "poverty = survey.data_columns(\"34\", SUMMARY_FIELDS)\n",
    "\n",
    "poverty[\"COUNT\"] = poverty[\"FACTOR07\"] * poverty[\"MIEPERHO\"]\n",
    "total_weight = poverty[\"COUNT\"].sum()\n",
    "df = pd.DataFrame(poverty.groupby('POBREZA')[\"COUNT\"].sum())\n",
    "df[\"percentages\"] = (df[\"COUNT\"] / total_weight) * 100\n",
    "df.round(2)"
   ],
   "id": "c0d885deefb902c1",
   "outputs": [
    {
     "data": {
      "text/plain": [
       "               COUNT  percentages\n",
       "POBREZA                          \n",
       "1.0       1960234.35         5.75\n",
       "2.0       7946474.07        23.30\n",
       "3.0      24200339.24        70.95"
      ],
      "text/html": [
       "<div>\n",
       "<style scoped>\n",
       "    .dataframe tbody tr th:only-of-type {\n",
       "        vertical-align: middle;\n",
       "    }\n",
       "\n",
       "    .dataframe tbody tr th {\n",
       "        vertical-align: top;\n",
       "    }\n",
       "\n",
       "    .dataframe thead th {\n",
       "        text-align: right;\n",
       "    }\n",
       "</style>\n",
       "<table border=\"1\" class=\"dataframe\">\n",
       "  <thead>\n",
       "    <tr style=\"text-align: right;\">\n",
       "      <th></th>\n",
       "      <th>COUNT</th>\n",
       "      <th>percentages</th>\n",
       "    </tr>\n",
       "    <tr>\n",
       "      <th>POBREZA</th>\n",
       "      <th></th>\n",
       "      <th></th>\n",
       "    </tr>\n",
       "  </thead>\n",
       "  <tbody>\n",
       "    <tr>\n",
       "      <th>1.0</th>\n",
       "      <td>1960234.35</td>\n",
       "      <td>5.75</td>\n",
       "    </tr>\n",
       "    <tr>\n",
       "      <th>2.0</th>\n",
       "      <td>7946474.07</td>\n",
       "      <td>23.30</td>\n",
       "    </tr>\n",
       "    <tr>\n",
       "      <th>3.0</th>\n",
       "      <td>24200339.24</td>\n",
       "      <td>70.95</td>\n",
       "    </tr>\n",
       "  </tbody>\n",
       "</table>\n",
       "</div>"
      ]
     },
     "execution_count": 46,
     "metadata": {},
     "output_type": "execute_result"
    }
   ],
   "execution_count": 46
  },
  {
   "metadata": {
    "ExecuteTime": {
     "end_time": "2024-07-29T23:25:39.758742Z",
     "start_time": "2024-07-29T23:25:39.752522Z"
    }
   },
   "cell_type": "code",
   "source": [
    "unique_house = len(poverty[\"HOUSE_KEY\"].unique())\n",
    "print(unique_house)"
   ],
   "id": "99a01f3385b4ef76",
   "outputs": [
    {
     "name": "stdout",
     "output_type": "stream",
     "text": [
      "33886\n"
     ]
    }
   ],
   "execution_count": 47
  },
  {
   "metadata": {
    "ExecuteTime": {
     "end_time": "2024-07-29T23:25:40.374944Z",
     "start_time": "2024-07-29T23:25:40.368565Z"
    }
   },
   "cell_type": "code",
   "source": "survey.value_labels(\"34\", [\"POBREZA\"])",
   "id": "a81071dc5d553492",
   "outputs": [
    {
     "data": {
      "text/plain": [
       "{'POBREZA': {1.0: 'Pobre Extremo', 2.0: 'Pobre No Extremo', 3.0: 'No Pobre'}}"
      ]
     },
     "execution_count": 48,
     "metadata": {},
     "output_type": "execute_result"
    }
   ],
   "execution_count": 48
  },
  {
   "metadata": {
    "ExecuteTime": {
     "end_time": "2024-07-29T23:29:51.702393Z",
     "start_time": "2024-07-29T23:29:51.684364Z"
    }
   },
   "cell_type": "code",
   "source": [
    "poverty[\"COUNT\"] = poverty[\"FACTOR07\"] * poverty[\"MIEPERHO\"]\n",
    "total_weight = poverty[\"COUNT\"].sum()\n",
    "poverty.groupby('DOMINIO')\n",
    "df = pd.DataFrame(poverty.groupby('DOMINIO')[\"COUNT\"].sum())\n",
    "df[\"percentages\"] = (df[\"COUNT\"] / total_weight)\n",
    "df.round(4)"
   ],
   "id": "e05467bb87dcfc29",
   "outputs": [
    {
     "data": {
      "text/plain": [
       "                COUNT  percentages\n",
       "DOMINIO                           \n",
       "1.0      5.040395e+06       0.1478\n",
       "2.0      2.290105e+06       0.0671\n",
       "3.0      6.934849e+05       0.0203\n",
       "4.0      1.914317e+06       0.0561\n",
       "5.0      4.033437e+06       0.1183\n",
       "6.0      4.579845e+06       0.1343\n",
       "7.0      4.299472e+06       0.1261\n",
       "8.0      1.125599e+07       0.3300"
      ],
      "text/html": [
       "<div>\n",
       "<style scoped>\n",
       "    .dataframe tbody tr th:only-of-type {\n",
       "        vertical-align: middle;\n",
       "    }\n",
       "\n",
       "    .dataframe tbody tr th {\n",
       "        vertical-align: top;\n",
       "    }\n",
       "\n",
       "    .dataframe thead th {\n",
       "        text-align: right;\n",
       "    }\n",
       "</style>\n",
       "<table border=\"1\" class=\"dataframe\">\n",
       "  <thead>\n",
       "    <tr style=\"text-align: right;\">\n",
       "      <th></th>\n",
       "      <th>COUNT</th>\n",
       "      <th>percentages</th>\n",
       "    </tr>\n",
       "    <tr>\n",
       "      <th>DOMINIO</th>\n",
       "      <th></th>\n",
       "      <th></th>\n",
       "    </tr>\n",
       "  </thead>\n",
       "  <tbody>\n",
       "    <tr>\n",
       "      <th>1.0</th>\n",
       "      <td>5.040395e+06</td>\n",
       "      <td>0.1478</td>\n",
       "    </tr>\n",
       "    <tr>\n",
       "      <th>2.0</th>\n",
       "      <td>2.290105e+06</td>\n",
       "      <td>0.0671</td>\n",
       "    </tr>\n",
       "    <tr>\n",
       "      <th>3.0</th>\n",
       "      <td>6.934849e+05</td>\n",
       "      <td>0.0203</td>\n",
       "    </tr>\n",
       "    <tr>\n",
       "      <th>4.0</th>\n",
       "      <td>1.914317e+06</td>\n",
       "      <td>0.0561</td>\n",
       "    </tr>\n",
       "    <tr>\n",
       "      <th>5.0</th>\n",
       "      <td>4.033437e+06</td>\n",
       "      <td>0.1183</td>\n",
       "    </tr>\n",
       "    <tr>\n",
       "      <th>6.0</th>\n",
       "      <td>4.579845e+06</td>\n",
       "      <td>0.1343</td>\n",
       "    </tr>\n",
       "    <tr>\n",
       "      <th>7.0</th>\n",
       "      <td>4.299472e+06</td>\n",
       "      <td>0.1261</td>\n",
       "    </tr>\n",
       "    <tr>\n",
       "      <th>8.0</th>\n",
       "      <td>1.125599e+07</td>\n",
       "      <td>0.3300</td>\n",
       "    </tr>\n",
       "  </tbody>\n",
       "</table>\n",
       "</div>"
      ]
     },
     "execution_count": 53,
     "metadata": {},
     "output_type": "execute_result"
    }
   ],
   "execution_count": 53
  },
  {
   "metadata": {
    "ExecuteTime": {
     "end_time": "2024-07-29T23:26:40.612841Z",
     "start_time": "2024-07-29T23:26:40.608208Z"
    }
   },
   "cell_type": "code",
   "source": "survey.value_labels(\"34\", [\"DOMINIO\"])",
   "id": "97e468e572e91ab0",
   "outputs": [
    {
     "data": {
      "text/plain": [
       "{'DOMINIO': {1.0: 'Costa Norte',\n",
       "  2.0: 'Costa Centro',\n",
       "  3.0: 'Costa Sur',\n",
       "  4.0: 'Sierra Norte',\n",
       "  5.0: 'Sierra Centro',\n",
       "  6.0: 'Sierra Sur',\n",
       "  7.0: 'Selva',\n",
       "  8.0: 'Lima Metropolitana'}}"
      ]
     },
     "execution_count": 51,
     "metadata": {},
     "output_type": "execute_result"
    }
   ],
   "execution_count": 51
  }
 ],
 "metadata": {
  "kernelspec": {
   "display_name": "Python 3",
   "language": "python",
   "name": "python3"
  },
  "language_info": {
   "codemirror_mode": {
    "name": "ipython",
    "version": 2
   },
   "file_extension": ".py",
   "mimetype": "text/x-python",
   "name": "python",
   "nbconvert_exporter": "python",
   "pygments_lexer": "ipython2",
   "version": "2.7.6"
  }
 },
 "nbformat": 4,
 "nbformat_minor": 5
}
